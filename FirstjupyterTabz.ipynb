{
 "cells": [
  {
   "cell_type": "code",
   "execution_count": 1,
   "id": "44a879e4",
   "metadata": {},
   "outputs": [
    {
     "name": "stdout",
     "output_type": "stream",
     "text": [
      "First trial\n",
      "I like how this works\n"
     ]
    }
   ],
   "source": [
    "def main():\n",
    "    print(\"First trial\")\n",
    "    print(\"I like how this works\")\n",
    "    \n",
    "main()\n"
   ]
  },
  {
   "cell_type": "markdown",
   "id": "668e7113",
   "metadata": {},
   "source": [
    "# Introduction to Programming \n",
    "In this program we learnt how to use jupyter notebooks"
   ]
  }
 ],
 "metadata": {
  "kernelspec": {
   "display_name": "Python 3",
   "language": "python",
   "name": "python3"
  },
  "language_info": {
   "codemirror_mode": {
    "name": "ipython",
    "version": 3
   },
   "file_extension": ".py",
   "mimetype": "text/x-python",
   "name": "python",
   "nbconvert_exporter": "python",
   "pygments_lexer": "ipython3",
   "version": "3.9.1"
  }
 },
 "nbformat": 4,
 "nbformat_minor": 5
}
